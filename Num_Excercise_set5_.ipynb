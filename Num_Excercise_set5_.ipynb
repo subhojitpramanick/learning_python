{
  "cells": [
    {
      "cell_type": "markdown",
      "metadata": {
        "id": "view-in-github",
        "colab_type": "text"
      },
      "source": [
        "<a href=\"https://colab.research.google.com/github/subhojitpramanick/learning_python/blob/main/Num_Excercise_set5_.ipynb\" target=\"_parent\"><img src=\"https://colab.research.google.com/assets/colab-badge.svg\" alt=\"Open In Colab\"/></a>"
      ]
    },
    {
      "cell_type": "markdown",
      "id": "36779643-82a2-48d8-ae51-0b5247dbf503",
      "metadata": {
        "id": "36779643-82a2-48d8-ae51-0b5247dbf503"
      },
      "source": [
        "# NumPy Excercise"
      ]
    },
    {
      "cell_type": "markdown",
      "id": "ad1ef4ef-2756-4cd3-b28e-51b08c72a1dd",
      "metadata": {
        "id": "ad1ef4ef-2756-4cd3-b28e-51b08c72a1dd"
      },
      "source": [
        "### 1. import NumPy first"
      ]
    },
    {
      "cell_type": "code",
      "execution_count": 1,
      "id": "0017d80a-b19b-46eb-b056-5f1f6a7dd61f",
      "metadata": {
        "id": "0017d80a-b19b-46eb-b056-5f1f6a7dd61f"
      },
      "outputs": [],
      "source": [
        "#code\n",
        "import numpy as np"
      ]
    },
    {
      "cell_type": "markdown",
      "id": "41bcd4ca-210f-41bc-9cdc-51e8af0748d8",
      "metadata": {
        "id": "41bcd4ca-210f-41bc-9cdc-51e8af0748d8"
      },
      "source": [
        "### 2. Make a 4x5 empty array"
      ]
    },
    {
      "cell_type": "code",
      "execution_count": 2,
      "id": "fe75f47e-5732-48d7-9c6b-952b9aea6f35",
      "metadata": {
        "colab": {
          "base_uri": "https://localhost:8080/"
        },
        "id": "fe75f47e-5732-48d7-9c6b-952b9aea6f35",
        "outputId": "7e147586-961f-4ec1-9b75-42bd2a03e5eb"
      },
      "outputs": [
        {
          "output_type": "execute_result",
          "data": {
            "text/plain": [
              "array([[0., 0., 0., 0., 0.],\n",
              "       [0., 0., 0., 0., 0.],\n",
              "       [0., 0., 0., 0., 0.],\n",
              "       [0., 0., 0., 0., 0.]])"
            ]
          },
          "metadata": {},
          "execution_count": 2
        }
      ],
      "source": [
        "#code\n",
        "np.zeros((4,5))"
      ]
    },
    {
      "cell_type": "markdown",
      "id": "cbc19f6b-5bdd-466b-8520-e0b0cab150f3",
      "metadata": {
        "id": "cbc19f6b-5bdd-466b-8520-e0b0cab150f3"
      },
      "source": [
        "### 3. Build a 2D array with diagonal value of 1 using positive floating numbers."
      ]
    },
    {
      "cell_type": "code",
      "execution_count": 3,
      "id": "4d2f0a75-f5c3-483b-a99c-c7aafcad2621",
      "metadata": {
        "colab": {
          "base_uri": "https://localhost:8080/"
        },
        "id": "4d2f0a75-f5c3-483b-a99c-c7aafcad2621",
        "outputId": "75633cd9-f907-4dc3-d2ec-62437ade3777"
      },
      "outputs": [
        {
          "output_type": "execute_result",
          "data": {
            "text/plain": [
              "array([[1.        , 0.54921253, 0.04305984, 0.51551502],\n",
              "       [0.84042631, 1.        , 0.84019052, 0.39086535],\n",
              "       [0.78852122, 0.49850997, 1.        , 0.92712081],\n",
              "       [0.31038199, 0.78334919, 0.08182625, 1.        ]])"
            ]
          },
          "metadata": {},
          "execution_count": 3
        }
      ],
      "source": [
        "#code\n",
        "import random\n",
        "arr=np.eye(4)\n",
        "for i in range(4):\n",
        "  for j in range(4):\n",
        "    if i==j:\n",
        "      continue\n",
        "    arr[i][j]=random.random()\n",
        "arr"
      ]
    },
    {
      "cell_type": "markdown",
      "id": "e8a0b905-9205-4ba6-ac7f-96508e0b6296",
      "metadata": {
        "id": "e8a0b905-9205-4ba6-ac7f-96508e0b6296"
      },
      "source": [
        "### 4. Count the total element present in first row of the above matrix."
      ]
    },
    {
      "cell_type": "code",
      "execution_count": 4,
      "id": "f130fc43-f2a3-4565-9d62-1e7f9dc41b79",
      "metadata": {
        "colab": {
          "base_uri": "https://localhost:8080/"
        },
        "id": "f130fc43-f2a3-4565-9d62-1e7f9dc41b79",
        "outputId": "4bb49077-d8f7-46d8-ead0-308969063212"
      },
      "outputs": [
        {
          "output_type": "stream",
          "name": "stdout",
          "text": [
            "4\n"
          ]
        }
      ],
      "source": [
        "#code\n",
        "print(len(arr[0]))\n"
      ]
    },
    {
      "cell_type": "markdown",
      "id": "da9e3a05-a9a6-4dc4-9ae3-8572f80bc5a4",
      "metadata": {
        "id": "da9e3a05-a9a6-4dc4-9ae3-8572f80bc5a4"
      },
      "source": [
        "### 5. Returns only even number in descending order from the existing array."
      ]
    },
    {
      "cell_type": "code",
      "execution_count": 5,
      "id": "5c4f7daf-d1f7-461e-8164-6962ed35239b",
      "metadata": {
        "id": "5c4f7daf-d1f7-461e-8164-6962ed35239b"
      },
      "outputs": [],
      "source": [
        "#input array\n",
        "arr=np.array([4,5,9,8,7,20,10,11,13])"
      ]
    },
    {
      "cell_type": "code",
      "execution_count": 6,
      "id": "df7f942d-c333-4147-9395-31a3d7ce149e",
      "metadata": {
        "colab": {
          "base_uri": "https://localhost:8080/"
        },
        "id": "df7f942d-c333-4147-9395-31a3d7ce149e",
        "outputId": "f53faf5f-63c4-40c3-b44e-553ea53df76e"
      },
      "outputs": [
        {
          "output_type": "execute_result",
          "data": {
            "text/plain": [
              "array([10., 20.,  8.,  4.])"
            ]
          },
          "metadata": {},
          "execution_count": 6
        }
      ],
      "source": [
        "#code\n",
        "newarr=np.array([])\n",
        "for i in arr:\n",
        "  if i%2==0:\n",
        "    newarr=np.append(newarr,i)\n",
        "newarr=newarr[::-1]\n",
        "newarr\n"
      ]
    },
    {
      "cell_type": "markdown",
      "id": "3a05e227-9b3b-4d8b-ae2b-c973c4458437",
      "metadata": {
        "id": "3a05e227-9b3b-4d8b-ae2b-c973c4458437"
      },
      "source": [
        "### 6. Find the sum of first row from both array"
      ]
    },
    {
      "cell_type": "code",
      "execution_count": 7,
      "id": "d3dc9c59-9429-4b7a-a369-2b77e9374589",
      "metadata": {
        "colab": {
          "base_uri": "https://localhost:8080/"
        },
        "id": "d3dc9c59-9429-4b7a-a369-2b77e9374589",
        "outputId": "f945d981-0455-4e9e-b462-cdf12c522eba"
      },
      "outputs": [
        {
          "output_type": "execute_result",
          "data": {
            "text/plain": [
              "array([[[ 8,  9],\n",
              "        [10, 11]],\n",
              "\n",
              "       [[12, 13],\n",
              "        [14, 15]]])"
            ]
          },
          "metadata": {},
          "execution_count": 7
        }
      ],
      "source": [
        "#Input array\n",
        "arr1=np.array([[[ 8,  9],[10, 11]],[[12, 13],[14, 15]]])\n",
        "arr1"
      ]
    },
    {
      "cell_type": "code",
      "execution_count": 8,
      "id": "43e4b4ae-fe9a-41bd-9e7f-76635f5d287f",
      "metadata": {
        "colab": {
          "base_uri": "https://localhost:8080/"
        },
        "id": "43e4b4ae-fe9a-41bd-9e7f-76635f5d287f",
        "outputId": "3a0e2c2e-69fe-4321-ecc0-10edafb4c8f4"
      },
      "outputs": [
        {
          "output_type": "execute_result",
          "data": {
            "text/plain": [
              "42"
            ]
          },
          "metadata": {},
          "execution_count": 8
        }
      ],
      "source": [
        "#code\n",
        "sum=0\n",
        "for i in arr1:\n",
        "  sum+=np.sum(i[0])\n",
        "sum\n"
      ]
    },
    {
      "cell_type": "markdown",
      "id": "a78d976b-0cac-473a-a861-d9c75548f711",
      "metadata": {
        "id": "a78d976b-0cac-473a-a861-d9c75548f711"
      },
      "source": [
        "### 7. Make a array and change its datatype int to int16."
      ]
    },
    {
      "cell_type": "code",
      "execution_count": 9,
      "id": "ba556ff2-c93a-4a54-9a04-f53e8d9a2f16",
      "metadata": {
        "colab": {
          "base_uri": "https://localhost:8080/"
        },
        "id": "ba556ff2-c93a-4a54-9a04-f53e8d9a2f16",
        "outputId": "bc4b3951-c603-4126-c1a0-bba486a874fa"
      },
      "outputs": [
        {
          "output_type": "stream",
          "name": "stdout",
          "text": [
            "int16\n"
          ]
        }
      ],
      "source": [
        "#code\n",
        "arr=np.array([[[16, 17],[18, 19]],[[20, 21],[22, 23]]],dtype='int16')\n",
        "print(arr.dtype)\n"
      ]
    },
    {
      "cell_type": "markdown",
      "id": "a7d2a458-b558-4c4d-8159-8722bbce802d",
      "metadata": {
        "id": "a7d2a458-b558-4c4d-8159-8722bbce802d"
      },
      "source": [
        "### 8. Calculate the sum of the diagonal element of the matrix"
      ]
    },
    {
      "cell_type": "code",
      "execution_count": 10,
      "id": "a328d225-0695-48e6-b9d7-d02305af4784",
      "metadata": {
        "colab": {
          "base_uri": "https://localhost:8080/"
        },
        "id": "a328d225-0695-48e6-b9d7-d02305af4784",
        "outputId": "ceb1db78-2bf1-40aa-fd8a-1b92d85ae2e3"
      },
      "outputs": [
        {
          "output_type": "execute_result",
          "data": {
            "text/plain": [
              "array([[32, 33, 34, 35],\n",
              "       [36, 37, 38, 39],\n",
              "       [40, 41, 42, 43],\n",
              "       [44, 45, 46, 47]])"
            ]
          },
          "metadata": {},
          "execution_count": 10
        }
      ],
      "source": [
        "#input Array\n",
        "m = np.arange(32,48).reshape(4,4)\n",
        "m"
      ]
    },
    {
      "cell_type": "code",
      "execution_count": 11,
      "id": "6a384dc0-ded4-4082-b50c-fffab3cfd52a",
      "metadata": {
        "colab": {
          "base_uri": "https://localhost:8080/"
        },
        "id": "6a384dc0-ded4-4082-b50c-fffab3cfd52a",
        "outputId": "623c97e5-5604-4a6a-f776-717c175dcb0b"
      },
      "outputs": [
        {
          "output_type": "execute_result",
          "data": {
            "text/plain": [
              "158"
            ]
          },
          "metadata": {},
          "execution_count": 11
        }
      ],
      "source": [
        "#code\n",
        "dsum=0\n",
        "for i in range(4):\n",
        "  dsum+=m[i][i]\n",
        "dsum\n"
      ]
    },
    {
      "cell_type": "markdown",
      "id": "d7934423-4518-4a90-8277-3fc323d891dc",
      "metadata": {
        "id": "d7934423-4518-4a90-8277-3fc323d891dc"
      },
      "source": [
        "### 9. Create an (8,2) matrix from the above matrix (value will be same)"
      ]
    },
    {
      "cell_type": "code",
      "execution_count": 12,
      "id": "d29921bd-0fc6-4fd0-af94-dc5e6c5113f5",
      "metadata": {
        "colab": {
          "base_uri": "https://localhost:8080/"
        },
        "id": "d29921bd-0fc6-4fd0-af94-dc5e6c5113f5",
        "outputId": "e4bf074e-2aef-4aab-8c25-89005cfe7325"
      },
      "outputs": [
        {
          "output_type": "execute_result",
          "data": {
            "text/plain": [
              "array([[32, 33],\n",
              "       [34, 35],\n",
              "       [36, 37],\n",
              "       [38, 39],\n",
              "       [40, 41],\n",
              "       [42, 43],\n",
              "       [44, 45],\n",
              "       [46, 47]])"
            ]
          },
          "metadata": {},
          "execution_count": 12
        }
      ],
      "source": [
        "#code\n",
        "m.reshape(8,2)\n"
      ]
    },
    {
      "cell_type": "markdown",
      "id": "a7f16204-60a8-4c13-9da7-fc35df80954d",
      "metadata": {
        "id": "a7f16204-60a8-4c13-9da7-fc35df80954d"
      },
      "source": [
        "### 10. Create a function which calculate sigmoid of an numpy array.\n",
        "![image.png](attachment:9b549e15-7355-4d4f-9cd3-47617e510679.png)"
      ]
    },
    {
      "cell_type": "code",
      "execution_count": 13,
      "id": "ec54f851-7abd-4f88-b0fc-c294d38e3bd9",
      "metadata": {
        "colab": {
          "base_uri": "https://localhost:8080/"
        },
        "id": "ec54f851-7abd-4f88-b0fc-c294d38e3bd9",
        "outputId": "ce656863-4134-4b04-ab8e-2d4a672c33c5"
      },
      "outputs": [
        {
          "output_type": "execute_result",
          "data": {
            "text/plain": [
              "array([4, 5, 9, 8, 7])"
            ]
          },
          "metadata": {},
          "execution_count": 13
        }
      ],
      "source": [
        "# Input array\n",
        "arr2=np.array([4,5,9,8,7])\n",
        "arr2"
      ]
    },
    {
      "cell_type": "code",
      "execution_count": 14,
      "id": "80121a16-b14b-4fd1-a74f-63eaf76c086a",
      "metadata": {
        "colab": {
          "base_uri": "https://localhost:8080/"
        },
        "id": "80121a16-b14b-4fd1-a74f-63eaf76c086a",
        "outputId": "6d5743e6-677d-40f6-f6fd-2571cc9b1608"
      },
      "outputs": [
        {
          "output_type": "execute_result",
          "data": {
            "text/plain": [
              "array([0.98201379, 0.99330715, 0.99987661, 0.99966465, 0.99908895])"
            ]
          },
          "metadata": {},
          "execution_count": 14
        }
      ],
      "source": [
        "#code\n",
        "def sigmoid(arr):\n",
        "  return 1/(1+np.exp(-arr))\n",
        "sigmoid(arr2)\n"
      ]
    },
    {
      "cell_type": "markdown",
      "id": "7bcc1bf4-1372-4ce8-88d7-d75c32504d10",
      "metadata": {
        "id": "7bcc1bf4-1372-4ce8-88d7-d75c32504d10"
      },
      "source": [
        "### 11. Multiply 5 with all the element of first row and last row from the matrix."
      ]
    },
    {
      "cell_type": "code",
      "execution_count": 15,
      "id": "b38f89df-12e6-4d1a-8909-c5c44fb3dbde",
      "metadata": {
        "colab": {
          "base_uri": "https://localhost:8080/"
        },
        "id": "b38f89df-12e6-4d1a-8909-c5c44fb3dbde",
        "outputId": "c3c1bd5b-e261-4070-f133-f30da66a16b7"
      },
      "outputs": [
        {
          "output_type": "execute_result",
          "data": {
            "text/plain": [
              "array([[56, 57, 58, 59],\n",
              "       [60, 61, 62, 63],\n",
              "       [64, 65, 66, 67],\n",
              "       [68, 69, 70, 71]])"
            ]
          },
          "metadata": {},
          "execution_count": 15
        }
      ],
      "source": [
        "# Input array\n",
        "arr3=np.array([[56, 57, 58, 59],\n",
        "       [60, 61, 62, 63],\n",
        "       [64, 65, 66, 67],\n",
        "       [68, 69, 70, 71]])\n",
        "arr3"
      ]
    },
    {
      "cell_type": "code",
      "execution_count": 16,
      "id": "8d6a561f-eb42-4c54-be2d-d39610fec475",
      "metadata": {
        "colab": {
          "base_uri": "https://localhost:8080/"
        },
        "id": "8d6a561f-eb42-4c54-be2d-d39610fec475",
        "outputId": "4b02c62d-d737-4edc-87d9-7281b9eed4e5"
      },
      "outputs": [
        {
          "output_type": "execute_result",
          "data": {
            "text/plain": [
              "array([[280, 285, 290, 295],\n",
              "       [320, 325, 330, 335]])"
            ]
          },
          "metadata": {},
          "execution_count": 16
        }
      ],
      "source": [
        "#code\n",
        "new=arr3[0:4:2,0:4]\n",
        "new*5\n"
      ]
    },
    {
      "cell_type": "markdown",
      "id": "1b687ed1-c928-40c5-89ab-85b80557e420",
      "metadata": {
        "id": "1b687ed1-c928-40c5-89ab-85b80557e420"
      },
      "source": [
        "### 12. What is the index value of maximum number present in middle row"
      ]
    },
    {
      "cell_type": "code",
      "execution_count": 17,
      "id": "bd17f4ce-7771-4cd0-a1ce-a3645b7bab0d",
      "metadata": {
        "colab": {
          "base_uri": "https://localhost:8080/"
        },
        "id": "bd17f4ce-7771-4cd0-a1ce-a3645b7bab0d",
        "outputId": "1d6ee9b8-dc5c-4c9c-f50f-8797f167e7a4"
      },
      "outputs": [
        {
          "output_type": "stream",
          "name": "stdout",
          "text": [
            "Maximum number in middle row is in index 0\n"
          ]
        }
      ],
      "source": [
        "#code\n",
        "arr=np.array([[44 ,88 ,20],[85, 74 ,56],[41 ,23 ,56]])\n",
        "print(f\"Maximum number in middle row is in index {np.argmax(arr[1])}\")\n"
      ]
    },
    {
      "cell_type": "markdown",
      "id": "01cb1f64-a8ab-4873-a30b-9c87a03fa71f",
      "metadata": {
        "id": "01cb1f64-a8ab-4873-a30b-9c87a03fa71f"
      },
      "source": [
        "### 13. Calculate the sin value of all the element present in the vector"
      ]
    },
    {
      "cell_type": "code",
      "execution_count": 18,
      "id": "7707cdff-c8ba-4253-bf74-ef7779dbd841",
      "metadata": {
        "id": "7707cdff-c8ba-4253-bf74-ef7779dbd841"
      },
      "outputs": [],
      "source": [
        "#Input array\n",
        "arr=np.array([12,56,41,23,44,11])"
      ]
    },
    {
      "cell_type": "code",
      "execution_count": 19,
      "id": "903a0627-a353-4f56-ad5d-1f3f2611d1aa",
      "metadata": {
        "colab": {
          "base_uri": "https://localhost:8080/"
        },
        "id": "903a0627-a353-4f56-ad5d-1f3f2611d1aa",
        "outputId": "d1aacc4a-4aaa-4f08-dd38-93e3eeea85c3"
      },
      "outputs": [
        {
          "output_type": "execute_result",
          "data": {
            "text/plain": [
              "array([-0.53657292, -0.521551  , -0.15862267, -0.8462204 ,  0.01770193,\n",
              "       -0.99999021])"
            ]
          },
          "metadata": {},
          "execution_count": 19
        }
      ],
      "source": [
        "#code\n",
        "new=np.sin(arr)\n",
        "new"
      ]
    },
    {
      "cell_type": "markdown",
      "id": "4d42b427-2862-48ce-8cb7-932bc9ba7c88",
      "metadata": {
        "id": "4d42b427-2862-48ce-8cb7-932bc9ba7c88"
      },
      "source": [
        "### 14. Make two 2D arrays and do subtraction between them."
      ]
    },
    {
      "cell_type": "code",
      "execution_count": 20,
      "id": "67fc7e5e-2b60-4060-8eaf-8e0bd1f28752",
      "metadata": {
        "colab": {
          "base_uri": "https://localhost:8080/"
        },
        "id": "67fc7e5e-2b60-4060-8eaf-8e0bd1f28752",
        "outputId": "a26b06cf-6159-4435-cf28-8c10de8be07e"
      },
      "outputs": [
        {
          "output_type": "execute_result",
          "data": {
            "text/plain": [
              "array([[1, 1, 1],\n",
              "       [2, 2, 2]])"
            ]
          },
          "metadata": {},
          "execution_count": 20
        }
      ],
      "source": [
        "#code\n",
        "arr1=np.array([[2,3,4],[6,7,8]])\n",
        "arr2=np.array([[1,2,3],[4,5,6]])\n",
        "arr1-arr2\n"
      ]
    },
    {
      "cell_type": "markdown",
      "id": "78b03d92-3abd-46dd-a5fb-ceb7feb85878",
      "metadata": {
        "id": "78b03d92-3abd-46dd-a5fb-ceb7feb85878"
      },
      "source": [
        "### 15. Access the last three element from the 1D array and reverse the result"
      ]
    },
    {
      "cell_type": "code",
      "execution_count": 21,
      "id": "2f0b06a5-6cc0-421d-9650-04f4fdd5500e",
      "metadata": {
        "id": "2f0b06a5-6cc0-421d-9650-04f4fdd5500e"
      },
      "outputs": [],
      "source": [
        "# Input array\n",
        "arr=np.array([41,52,3,88,14,56,10])"
      ]
    },
    {
      "cell_type": "code",
      "execution_count": 22,
      "id": "72841b06-d053-4cba-ba80-461e729284b3",
      "metadata": {
        "colab": {
          "base_uri": "https://localhost:8080/"
        },
        "id": "72841b06-d053-4cba-ba80-461e729284b3",
        "outputId": "64cdd4ed-8b90-4b3d-8de2-39cd2a3c270f"
      },
      "outputs": [
        {
          "output_type": "execute_result",
          "data": {
            "text/plain": [
              "array([10, 56, 14])"
            ]
          },
          "metadata": {},
          "execution_count": 22
        }
      ],
      "source": [
        "#code\n",
        "new=arr[-3:][::-1]\n",
        "new\n"
      ]
    },
    {
      "cell_type": "markdown",
      "id": "41465bda-52b0-4e53-a511-c4c69e81fbc9",
      "metadata": {
        "id": "41465bda-52b0-4e53-a511-c4c69e81fbc9"
      },
      "source": [
        "### 16. Access second and third row from below matrix"
      ]
    },
    {
      "cell_type": "code",
      "execution_count": 23,
      "id": "718801ae-c00e-4e18-a50b-15b9df449c33",
      "metadata": {
        "colab": {
          "base_uri": "https://localhost:8080/"
        },
        "id": "718801ae-c00e-4e18-a50b-15b9df449c33",
        "outputId": "e2cabe80-876f-430c-9c86-e62f4369e676"
      },
      "outputs": [
        {
          "output_type": "execute_result",
          "data": {
            "text/plain": [
              "array([[ 5,  6,  7,  8,  9],\n",
              "       [10, 11, 12, 13, 14],\n",
              "       [15, 16, 17, 18, 19],\n",
              "       [20, 21, 22, 23, 24]])"
            ]
          },
          "metadata": {},
          "execution_count": 23
        }
      ],
      "source": [
        "d = np.arange(5,25).reshape(4,5)\n",
        "d"
      ]
    },
    {
      "cell_type": "code",
      "execution_count": 24,
      "id": "471ae0c4-0c37-4296-a714-8592f556613d",
      "metadata": {
        "colab": {
          "base_uri": "https://localhost:8080/"
        },
        "id": "471ae0c4-0c37-4296-a714-8592f556613d",
        "outputId": "cba750ca-6245-4828-c7f4-63f2f2c8e2d1"
      },
      "outputs": [
        {
          "output_type": "execute_result",
          "data": {
            "text/plain": [
              "array([[10, 11, 12, 13, 14],\n",
              "       [15, 16, 17, 18, 19]])"
            ]
          },
          "metadata": {},
          "execution_count": 24
        }
      ],
      "source": [
        "#code\n",
        "d[1:3]\n"
      ]
    },
    {
      "cell_type": "markdown",
      "id": "1834e63d-d447-4518-9836-d5c284cc17c2",
      "metadata": {
        "id": "1834e63d-d447-4518-9836-d5c284cc17c2"
      },
      "source": [
        "### 17. Access Below part from above matrix"
      ]
    },
    {
      "cell_type": "code",
      "execution_count": 25,
      "id": "3671cb72-ed0d-4c94-a678-5e4d717d2a9d",
      "metadata": {
        "colab": {
          "base_uri": "https://localhost:8080/"
        },
        "id": "3671cb72-ed0d-4c94-a678-5e4d717d2a9d",
        "outputId": "6cafac84-0354-43f2-a805-6758d1300847"
      },
      "outputs": [
        {
          "output_type": "execute_result",
          "data": {
            "text/plain": [
              "array([[12, 13],\n",
              "       [17, 18]])"
            ]
          },
          "metadata": {},
          "execution_count": 25
        }
      ],
      "source": [
        "#code\n",
        "d[1:3:,2:4]"
      ]
    },
    {
      "cell_type": "markdown",
      "id": "6abf65c7-67d8-4e43-b5f8-68a5e1b31b93",
      "metadata": {
        "id": "6abf65c7-67d8-4e43-b5f8-68a5e1b31b93"
      },
      "source": [
        "### 18. Access Below part"
      ]
    },
    {
      "cell_type": "code",
      "execution_count": 26,
      "id": "d5f24cfb-38c8-4a21-b11a-8bde52c273ba",
      "metadata": {
        "colab": {
          "base_uri": "https://localhost:8080/"
        },
        "id": "d5f24cfb-38c8-4a21-b11a-8bde52c273ba",
        "outputId": "a9e4a518-82a0-463f-8c2a-354fefe7dfb7"
      },
      "outputs": [
        {
          "output_type": "execute_result",
          "data": {
            "text/plain": [
              "array([[15, 16],\n",
              "       [20, 21]])"
            ]
          },
          "metadata": {},
          "execution_count": 26
        }
      ],
      "source": [
        "#code\n",
        "d[2:,:2]"
      ]
    },
    {
      "cell_type": "markdown",
      "id": "a7644148-5110-44a7-ae2f-bd4b83b3b85f",
      "metadata": {
        "id": "a7644148-5110-44a7-ae2f-bd4b83b3b85f"
      },
      "source": [
        "### 19. Access below part"
      ]
    },
    {
      "cell_type": "code",
      "execution_count": 27,
      "id": "bb4b0b36-c89d-4e16-bc11-027398232b25",
      "metadata": {
        "colab": {
          "base_uri": "https://localhost:8080/"
        },
        "id": "bb4b0b36-c89d-4e16-bc11-027398232b25",
        "outputId": "ef0b3d65-e4ba-41a3-ce27-1475ce5c901e"
      },
      "outputs": [
        {
          "output_type": "execute_result",
          "data": {
            "text/plain": [
              "array([[16, 17, 18]])"
            ]
          },
          "metadata": {},
          "execution_count": 27
        }
      ],
      "source": [
        "#code\n",
        "d[2:3,1:4]"
      ]
    },
    {
      "cell_type": "markdown",
      "id": "e4ecc006-9f3a-4aa0-b976-c14e42edd752",
      "metadata": {
        "id": "e4ecc006-9f3a-4aa0-b976-c14e42edd752"
      },
      "source": [
        "### 20.Access these part from below matrix"
      ]
    },
    {
      "cell_type": "code",
      "execution_count": 28,
      "id": "1641da0c-c44d-4229-9329-1d23e2df58b3",
      "metadata": {
        "colab": {
          "base_uri": "https://localhost:8080/"
        },
        "id": "1641da0c-c44d-4229-9329-1d23e2df58b3",
        "outputId": "0974b596-71e0-461a-e3dd-176ec1f96590"
      },
      "outputs": [
        {
          "output_type": "execute_result",
          "data": {
            "text/plain": [
              "array([[[ 0,  1,  2],\n",
              "        [ 3,  4,  5],\n",
              "        [ 6,  7,  8],\n",
              "        [ 9, 10, 11]],\n",
              "\n",
              "       [[12, 13, 14],\n",
              "        [15, 16, 17],\n",
              "        [18, 19, 20],\n",
              "        [21, 22, 23]]])"
            ]
          },
          "metadata": {},
          "execution_count": 28
        }
      ],
      "source": [
        "h=np.arange(0,24).reshape(2,4,3)\n",
        "h"
      ]
    },
    {
      "cell_type": "code",
      "execution_count": 29,
      "id": "37fe761d-2782-41ed-b92b-0f37eb20ee3a",
      "metadata": {
        "colab": {
          "base_uri": "https://localhost:8080/"
        },
        "id": "37fe761d-2782-41ed-b92b-0f37eb20ee3a",
        "outputId": "38f7ece7-5db1-4305-cd68-dd5cc0ea2434"
      },
      "outputs": [
        {
          "output_type": "execute_result",
          "data": {
            "text/plain": [
              "array([[[ 4,  5],\n",
              "        [10, 11]],\n",
              "\n",
              "       [[16, 17],\n",
              "        [22, 23]]])"
            ]
          },
          "metadata": {},
          "execution_count": 29
        }
      ],
      "source": [
        "#code\n",
        "h[0:,1:4:2,1:3]\n"
      ]
    },
    {
      "cell_type": "code",
      "execution_count": 29,
      "id": "d090e1e8-e2d7-4081-8f5a-95a3973ae26b",
      "metadata": {
        "id": "d090e1e8-e2d7-4081-8f5a-95a3973ae26b"
      },
      "outputs": [],
      "source": []
    }
  ],
  "metadata": {
    "kernelspec": {
      "display_name": "Python 3 (ipykernel)",
      "language": "python",
      "name": "python3"
    },
    "language_info": {
      "codemirror_mode": {
        "name": "ipython",
        "version": 3
      },
      "file_extension": ".py",
      "mimetype": "text/x-python",
      "name": "python",
      "nbconvert_exporter": "python",
      "pygments_lexer": "ipython3",
      "version": "3.9.7"
    },
    "colab": {
      "provenance": [],
      "include_colab_link": true
    }
  },
  "nbformat": 4,
  "nbformat_minor": 5
}