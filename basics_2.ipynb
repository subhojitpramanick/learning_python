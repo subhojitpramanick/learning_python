{
  "nbformat": 4,
  "nbformat_minor": 0,
  "metadata": {
    "colab": {
      "provenance": [],
      "authorship_tag": "ABX9TyMnM3tOvvnOatrYrIQkGeJ5",
      "include_colab_link": true
    },
    "kernelspec": {
      "name": "python3",
      "display_name": "Python 3"
    },
    "language_info": {
      "name": "python"
    }
  },
  "cells": [
    {
      "cell_type": "markdown",
      "metadata": {
        "id": "view-in-github",
        "colab_type": "text"
      },
      "source": [
        "<a href=\"https://colab.research.google.com/github/subhojitpramanick/learning_python/blob/main/basics_2.ipynb\" target=\"_parent\"><img src=\"https://colab.research.google.com/assets/colab-badge.svg\" alt=\"Open In Colab\"/></a>"
      ]
    },
    {
      "cell_type": "code",
      "execution_count": null,
      "metadata": {
        "id": "jWt8r6U9OQut"
      },
      "outputs": [],
      "source": [
        "dict={'name':'ronit','age':45,'city':'howrah'}"
      ]
    },
    {
      "cell_type": "code",
      "source": [
        "type(dict)"
      ],
      "metadata": {
        "colab": {
          "base_uri": "https://localhost:8080/"
        },
        "id": "nBvcgz5NRNj0",
        "outputId": "b19a4491-0afb-49f1-8f26-b50ee1b8c082"
      },
      "execution_count": null,
      "outputs": [
        {
          "output_type": "execute_result",
          "data": {
            "text/plain": [
              "dict"
            ]
          },
          "metadata": {},
          "execution_count": 16
        }
      ]
    },
    {
      "cell_type": "code",
      "source": [
        "dict.pop('name')"
      ],
      "metadata": {
        "colab": {
          "base_uri": "https://localhost:8080/",
          "height": 36
        },
        "id": "HfobUc5tRPEf",
        "outputId": "97d8f6d5-e53a-4320-e432-a00a0b4f6739"
      },
      "execution_count": null,
      "outputs": [
        {
          "output_type": "execute_result",
          "data": {
            "text/plain": [
              "'ronit'"
            ],
            "application/vnd.google.colaboratory.intrinsic+json": {
              "type": "string"
            }
          },
          "metadata": {},
          "execution_count": 17
        }
      ]
    },
    {
      "cell_type": "code",
      "source": [
        "print(dict)"
      ],
      "metadata": {
        "colab": {
          "base_uri": "https://localhost:8080/"
        },
        "id": "rMPS4W0sRUa0",
        "outputId": "848474dd-41e7-4e64-b09a-ccf0b12f0573"
      },
      "execution_count": null,
      "outputs": [
        {
          "output_type": "stream",
          "name": "stdout",
          "text": [
            "{'age': 45, 'city': 'howrah'}\n"
          ]
        }
      ]
    },
    {
      "cell_type": "code",
      "source": [
        "dict.update({'name':'ronit'})"
      ],
      "metadata": {
        "id": "AVxCE1hhRYVh"
      },
      "execution_count": null,
      "outputs": []
    },
    {
      "cell_type": "code",
      "source": [
        "print(dict)"
      ],
      "metadata": {
        "colab": {
          "base_uri": "https://localhost:8080/"
        },
        "id": "Tl0jIe1IRiq5",
        "outputId": "f476630d-a499-4db2-dc4e-6542a40bbdc2"
      },
      "execution_count": null,
      "outputs": [
        {
          "output_type": "stream",
          "name": "stdout",
          "text": [
            "{'age': 45, 'city': 'howrah', 'name': 'ronit'}\n"
          ]
        }
      ]
    },
    {
      "cell_type": "code",
      "source": [
        "ans='ranit' in dict.get('name')\n",
        "print(ans)\n",
        "print(dict)"
      ],
      "metadata": {
        "colab": {
          "base_uri": "https://localhost:8080/"
        },
        "id": "x9K0sP0XRknc",
        "outputId": "6518bc47-9360-498f-afa7-dd661c3074bb"
      },
      "execution_count": null,
      "outputs": [
        {
          "output_type": "stream",
          "name": "stdout",
          "text": [
            "False\n",
            "{'age': 45, 'city': 'howrah', 'name': 'ronit'}\n"
          ]
        }
      ]
    },
    {
      "cell_type": "code",
      "source": [
        "d1={1:'a',2:'b'}\n",
        "d2={3:'c',4:'d'}\n"
      ],
      "metadata": {
        "id": "p3J-SKD-S_t8"
      },
      "execution_count": null,
      "outputs": []
    },
    {
      "cell_type": "code",
      "source": [
        "# d1['new']=d1.pop(1)\n"
      ],
      "metadata": {
        "id": "m7SfA6t3TnJc"
      },
      "execution_count": null,
      "outputs": []
    },
    {
      "cell_type": "code",
      "source": [
        "print(d1)"
      ],
      "metadata": {
        "colab": {
          "base_uri": "https://localhost:8080/"
        },
        "id": "A6WYU7UoWgFf",
        "outputId": "71a73f9a-f5e7-4a71-e817-b77763704fb9"
      },
      "execution_count": null,
      "outputs": [
        {
          "output_type": "stream",
          "name": "stdout",
          "text": [
            "{2: 'b', 3: 'c', 4: 'd', 'new': 'a'}\n"
          ]
        }
      ]
    },
    {
      "cell_type": "code",
      "source": [
        "# Clone the entire repo.\n",
        "!git clone -l -s git://github.com/subhojitpramanick/learning_python.git cloned-repo\n",
        "%cd cloned-repo\n",
        "!ls\n"
      ],
      "metadata": {
        "id": "UE8qIeJgYbdK"
      },
      "execution_count": null,
      "outputs": []
    },
    {
      "cell_type": "code",
      "source": [
        "l1=['name','age','city']\n",
        "l2=['Ayan',34,'Kolkata']\n",
        "dict={}\n",
        "for l1,l2 in zip(l1,l2):\n",
        "    dict[l1]=l2\n",
        "print(dict)"
      ],
      "metadata": {
        "colab": {
          "base_uri": "https://localhost:8080/"
        },
        "id": "z2ZtmtWfZdx1",
        "outputId": "d5c365f3-c8c6-478e-e84f-391e9800d0b1"
      },
      "execution_count": null,
      "outputs": [
        {
          "output_type": "stream",
          "name": "stdout",
          "text": [
            "{'name': 'Ayan', 'age': 34, 'city': 'Kolkata'}\n"
          ]
        }
      ]
    },
    {
      "cell_type": "code",
      "source": [
        " d5={'info':{'name':'Ayan','age':24},'city':'haldia'}"
      ],
      "metadata": {
        "id": "drizE7ZdaCAH"
      },
      "execution_count": null,
      "outputs": []
    },
    {
      "cell_type": "code",
      "source": [
        "print(d5)"
      ],
      "metadata": {
        "colab": {
          "base_uri": "https://localhost:8080/"
        },
        "id": "RiMM86IVcDeb",
        "outputId": "6467e7e7-6e14-400b-deec-10fbcc4123d4"
      },
      "execution_count": null,
      "outputs": [
        {
          "output_type": "stream",
          "name": "stdout",
          "text": [
            "{'info': {'name': 'Ayan', 'age': 24}, 'city': 'haldia'}\n"
          ]
        }
      ]
    },
    {
      "cell_type": "code",
      "source": [
        "d5.update(d5.pop('info'))"
      ],
      "metadata": {
        "id": "2lKzx6aGcGNb"
      },
      "execution_count": null,
      "outputs": []
    },
    {
      "cell_type": "code",
      "source": [
        "print(d5)"
      ],
      "metadata": {
        "colab": {
          "base_uri": "https://localhost:8080/"
        },
        "id": "299r_3CZcT2Q",
        "outputId": "cdf61afa-c8b8-4a29-9241-a3bf6e0956d9"
      },
      "execution_count": null,
      "outputs": [
        {
          "output_type": "stream",
          "name": "stdout",
          "text": [
            "{'city': 'haldia', 'name': 'Ayan', 'age': 24}\n"
          ]
        }
      ]
    },
    {
      "cell_type": "code",
      "source": [
        "s={1,2,3}\n",
        "s1={3,4,5}"
      ],
      "metadata": {
        "id": "DLxxCLWGcVqp"
      },
      "execution_count": null,
      "outputs": []
    },
    {
      "cell_type": "code",
      "source": [
        "s1.update(s)\n",
        "print(s1)"
      ],
      "metadata": {
        "colab": {
          "base_uri": "https://localhost:8080/"
        },
        "id": "F3kqlYfAgoCU",
        "outputId": "bf4991c5-bee5-49a1-a01e-ac1c0209612d"
      },
      "execution_count": null,
      "outputs": [
        {
          "output_type": "stream",
          "name": "stdout",
          "text": [
            "{1, 2, 3, 4, 5}\n"
          ]
        }
      ]
    },
    {
      "cell_type": "code",
      "source": [
        "s2=set([2,33,33,4])"
      ],
      "metadata": {
        "id": "hO0ZiQrsgsMt"
      },
      "execution_count": null,
      "outputs": []
    },
    {
      "cell_type": "code",
      "source": [
        "print(s2)"
      ],
      "metadata": {
        "colab": {
          "base_uri": "https://localhost:8080/"
        },
        "id": "QryDhPm_g-A2",
        "outputId": "5c34c42f-686b-4ea3-950e-0d508acbae5f"
      },
      "execution_count": null,
      "outputs": [
        {
          "output_type": "stream",
          "name": "stdout",
          "text": [
            "{33, 2, 4}\n"
          ]
        }
      ]
    },
    {
      "cell_type": "code",
      "source": [
        "s2.symmetric_difference(s1)"
      ],
      "metadata": {
        "colab": {
          "base_uri": "https://localhost:8080/"
        },
        "id": "SqUNqTUOhC72",
        "outputId": "fbde953a-efe3-4341-b4f1-3f20d0804678"
      },
      "execution_count": null,
      "outputs": [
        {
          "output_type": "execute_result",
          "data": {
            "text/plain": [
              "{1, 3, 5, 33}"
            ]
          },
          "metadata": {},
          "execution_count": 56
        }
      ]
    },
    {
      "cell_type": "code",
      "source": [
        "a=eval(input('enter a number'))\n",
        "b=eval(input('enter a number'))\n",
        "print(a+b)"
      ],
      "metadata": {
        "colab": {
          "base_uri": "https://localhost:8080/"
        },
        "id": "E7jXHydYnYpj",
        "outputId": "a3b577f8-21bd-48b7-d500-b05134c4cc79"
      },
      "execution_count": null,
      "outputs": [
        {
          "output_type": "stream",
          "name": "stdout",
          "text": [
            "enter a number23\n",
            "enter a number234\n",
            "257\n"
          ]
        }
      ]
    },
    {
      "cell_type": "code",
      "source": [
        "iknowPy=True\n",
        "\n",
        "if iknowPy:\n",
        "    congrats=True\n",
        "    if congrats:\n",
        "      print('Congrats')\n",
        "elif (~iknowPy):\n",
        "  congrats=False\n",
        "  if congrats:\n",
        "    print('congrats')\n",
        "  else:\n",
        "    print('Study')\n",
        "else:\n",
        "    print(\"Not a valid input\")"
      ],
      "metadata": {
        "colab": {
          "base_uri": "https://localhost:8080/"
        },
        "id": "DtFKZdw9oAOG",
        "outputId": "eccc2c2e-cbd6-4d76-c6d3-5084739fd306"
      },
      "execution_count": null,
      "outputs": [
        {
          "output_type": "stream",
          "name": "stdout",
          "text": [
            "Congrats\n"
          ]
        }
      ]
    },
    {
      "cell_type": "code",
      "source": [
        "day=['MON','TUE','WED','THU','FRI','SAT','SUN']\n",
        "print(f'give inputs only from:{day}')\n",
        "a=input(\"Enter a day: \")\n",
        "a=a.upper()\n",
        "if a in day:\n",
        "    if a== 'MON' or a== 'WED':\n",
        "        print('JOB')\n",
        "    elif a=='TUE':\n",
        "        print('Holiday')\n",
        "    else:\n",
        "      if a=='THU':\n",
        "        print('No Work only meeting')\n",
        "      else:\n",
        "        print('WFH')\n",
        "else:\n",
        "  print(\"INvalid INput\")\n"
      ],
      "metadata": {
        "colab": {
          "base_uri": "https://localhost:8080/"
        },
        "id": "2zPsvKqisKTS",
        "outputId": "e23b3a01-50d8-4328-81df-88741fd4d88b"
      },
      "execution_count": null,
      "outputs": [
        {
          "output_type": "stream",
          "name": "stdout",
          "text": [
            "give inputs only from:['MON', 'TUE', 'WED', 'THU', 'FRI', 'SAT', 'SUN']\n",
            "Enter a day: 90\n",
            "INvalid INput\n"
          ]
        }
      ]
    },
    {
      "cell_type": "code",
      "source": [
        "a=[[2,3],[3,4],[4,5]]\n",
        "b=[]\n",
        "for i in range(len(a)):\n",
        "  for j in range(len(a[i])):\n",
        "    b.append(a[i][j])\n",
        "print(b)"
      ],
      "metadata": {
        "id": "0vBDqQj7tg2d",
        "colab": {
          "base_uri": "https://localhost:8080/"
        },
        "outputId": "ca0579cd-ab2a-484d-dace-9b8d91b961f6"
      },
      "execution_count": null,
      "outputs": [
        {
          "output_type": "stream",
          "name": "stdout",
          "text": [
            "[2, 3, 3, 4, 4, 5]\n"
          ]
        }
      ]
    },
    {
      "cell_type": "code",
      "source": [
        "for i in range(1,6):\n",
        "  for j in range(i):\n",
        "    print('*',end=' ')\n",
        "  print()"
      ],
      "metadata": {
        "colab": {
          "base_uri": "https://localhost:8080/"
        },
        "id": "c8KypXvpaPpV",
        "outputId": "9f1169e3-4dd9-40ba-d138-2ec2008c8ef5"
      },
      "execution_count": null,
      "outputs": [
        {
          "output_type": "stream",
          "name": "stdout",
          "text": [
            "* \n",
            "* * \n",
            "* * * \n",
            "* * * * \n",
            "* * * * * \n"
          ]
        }
      ]
    },
    {
      "cell_type": "code",
      "source": [
        "for i in range(1,6):\n",
        "  for j in range(6-i):\n",
        "    print('*',end=' ')\n",
        "  print()"
      ],
      "metadata": {
        "colab": {
          "base_uri": "https://localhost:8080/"
        },
        "id": "0aidmzsBcXZB",
        "outputId": "44e3cbf6-55ba-4507-d10b-9d30b8f734be"
      },
      "execution_count": null,
      "outputs": [
        {
          "output_type": "stream",
          "name": "stdout",
          "text": [
            "* * * * * \n",
            "* * * * \n",
            "* * * \n",
            "* * \n",
            "* \n"
          ]
        }
      ]
    },
    {
      "cell_type": "code",
      "source": [
        "for i in range(1,5):\n",
        "  for j in range(5-i):\n",
        "    print(' ',end=' ')\n",
        "  for j in range(i):\n",
        "    print('*',end=' ')\n",
        "  for j in range(i-1):\n",
        "    print('*',end=' ')\n",
        "  print()"
      ],
      "metadata": {
        "colab": {
          "base_uri": "https://localhost:8080/"
        },
        "id": "ZQs8nWfAcgbY",
        "outputId": "3154e5f6-b4c0-4ddc-dd68-6d18bc14fa0d"
      },
      "execution_count": null,
      "outputs": [
        {
          "output_type": "stream",
          "name": "stdout",
          "text": [
            "        * \n",
            "      * * * \n",
            "    * * * * * \n",
            "  * * * * * * * \n"
          ]
        }
      ]
    },
    {
      "cell_type": "code",
      "source": [
        "n=10\n",
        "while(n>0):\n",
        "  print(n)\n",
        "  n-=1"
      ],
      "metadata": {
        "id": "E4AlbrJpfDZN",
        "colab": {
          "base_uri": "https://localhost:8080/"
        },
        "outputId": "d547e593-1cd7-479e-d519-71da6e2caa9d"
      },
      "execution_count": 15,
      "outputs": [
        {
          "output_type": "stream",
          "name": "stdout",
          "text": [
            "10\n",
            "9\n",
            "8\n",
            "7\n",
            "6\n",
            "5\n",
            "4\n",
            "3\n",
            "2\n",
            "1\n"
          ]
        }
      ]
    },
    {
      "cell_type": "code",
      "source": [
        "s='DATA'\n",
        "n=len(s)\n",
        "for i in range(len(s)):\n",
        "  print(s[i:n])\n"
      ],
      "metadata": {
        "colab": {
          "base_uri": "https://localhost:8080/"
        },
        "id": "yvvv3g_NkA1o",
        "outputId": "75d792f5-be12-4071-afa0-f33d0e92e502"
      },
      "execution_count": 20,
      "outputs": [
        {
          "output_type": "stream",
          "name": "stdout",
          "text": [
            "DATA\n",
            "ATA\n",
            "TA\n",
            "A\n"
          ]
        }
      ]
    },
    {
      "cell_type": "code",
      "source": [
        "!git status"
      ],
      "metadata": {
        "colab": {
          "base_uri": "https://localhost:8080/"
        },
        "id": "vyByDb-pkjBx",
        "outputId": "2c04ce8d-d814-417a-f3ae-fb76f654f8f8"
      },
      "execution_count": 21,
      "outputs": [
        {
          "output_type": "stream",
          "name": "stdout",
          "text": [
            "fatal: not a git repository (or any of the parent directories): .git\n"
          ]
        }
      ]
    },
    {
      "cell_type": "code",
      "source": [
        "!git init"
      ],
      "metadata": {
        "colab": {
          "base_uri": "https://localhost:8080/"
        },
        "collapsed": true,
        "id": "pJaNWqlHluac",
        "outputId": "c5464fca-a154-4441-823d-74a99d30aaf8"
      },
      "execution_count": 22,
      "outputs": [
        {
          "output_type": "stream",
          "name": "stdout",
          "text": [
            "\u001b[33mhint: Using 'master' as the name for the initial branch. This default branch name\u001b[m\n",
            "\u001b[33mhint: is subject to change. To configure the initial branch name to use in all\u001b[m\n",
            "\u001b[33mhint: of your new repositories, which will suppress this warning, call:\u001b[m\n",
            "\u001b[33mhint: \u001b[m\n",
            "\u001b[33mhint: \tgit config --global init.defaultBranch <name>\u001b[m\n",
            "\u001b[33mhint: \u001b[m\n",
            "\u001b[33mhint: Names commonly chosen instead of 'master' are 'main', 'trunk' and\u001b[m\n",
            "\u001b[33mhint: 'development'. The just-created branch can be renamed via this command:\u001b[m\n",
            "\u001b[33mhint: \u001b[m\n",
            "\u001b[33mhint: \tgit branch -m <name>\u001b[m\n",
            "Initialized empty Git repository in /content/.git/\n"
          ]
        }
      ]
    },
    {
      "cell_type": "code",
      "source": [
        "!git commit -m \"first commit\""
      ],
      "metadata": {
        "colab": {
          "base_uri": "https://localhost:8080/"
        },
        "id": "AVbULT-XlyOx",
        "outputId": "35e7376c-9646-4fe6-9322-27b294fb1542"
      },
      "execution_count": 26,
      "outputs": [
        {
          "output_type": "stream",
          "name": "stdout",
          "text": [
            "Author identity unknown\n",
            "\n",
            "*** Please tell me who you are.\n",
            "\n",
            "Run\n",
            "\n",
            "  git config --global user.email \"you@example.com\"\n",
            "  git config --global user.name \"Your Name\"\n",
            "\n",
            "to set your account's default identity.\n",
            "Omit --global to set the identity only in this repository.\n",
            "\n",
            "fatal: unable to auto-detect email address (got 'root@a3d43885f505.(none)')\n"
          ]
        }
      ]
    },
    {
      "cell_type": "code",
      "source": [
        "!git config --global user.email \"subhojitpramanick.allwork@gmail.com\"\n",
        "!git config --global user.name \"subhojitpramanick\""
      ],
      "metadata": {
        "id": "u0TcgXUUl3ss"
      },
      "execution_count": 27,
      "outputs": []
    },
    {
      "cell_type": "code",
      "source": [
        "!git commit -m \"first commit\""
      ],
      "metadata": {
        "colab": {
          "base_uri": "https://localhost:8080/"
        },
        "id": "2TQHub-imdx0",
        "outputId": "66dfb04a-6730-4c82-ea22-f3c274b52655"
      },
      "execution_count": 28,
      "outputs": [
        {
          "output_type": "stream",
          "name": "stdout",
          "text": [
            "On branch master\n",
            "\n",
            "Initial commit\n",
            "\n",
            "Untracked files:\n",
            "  (use \"git add <file>...\" to include in what will be committed)\n",
            "\t\u001b[31m.config/\u001b[m\n",
            "\t\u001b[31msample_data/\u001b[m\n",
            "\n",
            "nothing added to commit but untracked files present (use \"git add\" to track)\n"
          ]
        }
      ]
    },
    {
      "cell_type": "code",
      "source": [
        "!git init"
      ],
      "metadata": {
        "colab": {
          "base_uri": "https://localhost:8080/"
        },
        "id": "9j6dYPKhmiO7",
        "outputId": "12cf11c8-b1ec-47fc-9775-dfd160cb5d77"
      },
      "execution_count": 29,
      "outputs": [
        {
          "output_type": "stream",
          "name": "stdout",
          "text": [
            "Reinitialized existing Git repository in /content/.git/\n"
          ]
        }
      ]
    },
    {
      "cell_type": "code",
      "source": [
        "!git add."
      ],
      "metadata": {
        "colab": {
          "base_uri": "https://localhost:8080/"
        },
        "id": "lDYKcMVummTX",
        "outputId": "8e2625d3-f604-4942-cd0a-b897d4462a2c"
      },
      "execution_count": 30,
      "outputs": [
        {
          "output_type": "stream",
          "name": "stdout",
          "text": [
            "git: 'add.' is not a git command. See 'git --help'.\n",
            "\n",
            "The most similar command is\n",
            "\tadd\n"
          ]
        }
      ]
    },
    {
      "cell_type": "code",
      "source": [
        "!git add .\n"
      ],
      "metadata": {
        "id": "dUJX_9MgmrCX"
      },
      "execution_count": 31,
      "outputs": []
    },
    {
      "cell_type": "code",
      "source": [
        "!git commit -m \"first commit\""
      ],
      "metadata": {
        "colab": {
          "base_uri": "https://localhost:8080/"
        },
        "id": "FJwOdiw-mvnS",
        "outputId": "51f63f5b-1de4-46e3-e164-68e3898febba"
      },
      "execution_count": 33,
      "outputs": [
        {
          "output_type": "stream",
          "name": "stdout",
          "text": [
            "[master (root-commit) a8cf566] first commit\n",
            " 21 files changed, 51023 insertions(+)\n",
            " create mode 100644 .config/.last_opt_in_prompt.yaml\n",
            " create mode 100644 .config/.last_survey_prompt.yaml\n",
            " create mode 100644 .config/.last_update_check.json\n",
            " create mode 100644 .config/active_config\n",
            " create mode 100644 .config/config_sentinel\n",
            " create mode 100644 .config/configurations/config_default\n",
            " create mode 100644 .config/default_configs.db\n",
            " create mode 100644 .config/gce\n",
            " create mode 100644 .config/hidden_gcloud_config_universe_descriptor_data_cache_configs.db\n",
            " create mode 100644 .config/logs/2025.01.07/14.21.09.201668.log\n",
            " create mode 100644 .config/logs/2025.01.07/14.21.29.466863.log\n",
            " create mode 100644 .config/logs/2025.01.07/14.21.40.150993.log\n",
            " create mode 100644 .config/logs/2025.01.07/14.21.41.175006.log\n",
            " create mode 100644 .config/logs/2025.01.07/14.21.52.061884.log\n",
            " create mode 100644 .config/logs/2025.01.07/14.21.52.691187.log\n",
            " create mode 100755 sample_data/README.md\n",
            " create mode 100755 sample_data/anscombe.json\n",
            " create mode 100644 sample_data/california_housing_test.csv\n",
            " create mode 100644 sample_data/california_housing_train.csv\n",
            " create mode 100644 sample_data/mnist_test.csv\n",
            " create mode 100644 sample_data/mnist_train_small.csv\n"
          ]
        }
      ]
    },
    {
      "cell_type": "code",
      "source": [
        "!git push origin main"
      ],
      "metadata": {
        "colab": {
          "base_uri": "https://localhost:8080/"
        },
        "id": "0dX0hQpjmy7j",
        "outputId": "50229eda-bb5a-4d99-c716-b5ba10bcaa33"
      },
      "execution_count": 35,
      "outputs": [
        {
          "output_type": "stream",
          "name": "stdout",
          "text": [
            "error: src refspec main does not match any\n",
            "\u001b[31merror: failed to push some refs to 'origin'\n",
            "\u001b[m"
          ]
        }
      ]
    },
    {
      "cell_type": "code",
      "source": [],
      "metadata": {
        "id": "ck4EG_jcnA0U"
      },
      "execution_count": null,
      "outputs": []
    }
  ]
}